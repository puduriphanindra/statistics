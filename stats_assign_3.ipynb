{
 "cells": [
  {
   "cell_type": "raw",
   "metadata": {},
   "source": [
    "1.Blood glucose levels for obese patients have a mean of 100 with a standard deviation of\n",
    "15. A researcher thinks that a diet high in raw cornstarch will have a positive effect on\n",
    "blood glucose levels. A sample of 36 patients who have tried the raw cornstarch diet\n",
    "have a mean glucose level of 108. Test the hypothesis that the raw cornstarch had an\n",
    "effect or not.\n",
    "\n",
    "Ans. here,Null hypothesis H0:population mean=100;\n",
    "          Alternative hypothesis H1:population mean!=100;\n",
    "          Let us assume, level of significance=5%\n",
    "          applying z stat"
   ]
  },
  {
   "cell_type": "code",
   "execution_count": 2,
   "metadata": {},
   "outputs": [
    {
     "name": "stdout",
     "output_type": "stream",
     "text": [
      "Null Hypothesis Is Rejected and raw cornstarch had an affect for 5% of significance\n"
     ]
    }
   ],
   "source": [
    "import numpy as np\n",
    "N=36;#sample size\n",
    "population_mean=100\n",
    "sample_mean=108\n",
    "standard_deviation=15\n",
    "level_of_significance=0.05;\n",
    "standard_error=standard_deviation/np.sqrt(N)\n",
    "z_calculated=(sample_mean-population_mean)/standard_error\n",
    "z_theoritical=1.96\n",
    "if(z_calculated>z_theoritical):\n",
    "    print(\"Null Hypothesis Is Rejected and raw cornstarch had an affect for 5% of significance\")\n",
    "else:\n",
    "    print(\"Null Hypothesis is accepted and raw cornstarch had no effect on 5% of significance\")"
   ]
  },
  {
   "cell_type": "raw",
   "metadata": {},
   "source": [
    "2.In one state, 52% of the voters are Republicans, and 48% are Democrats. In a second\n",
    "state, 47% of the voters are Republicans, and 53% are Democrats. Suppose a simple\n",
    "random sample of 100 voters are surveyed from each state.\n",
    "What is the probability that the survey will show a greater percentage of Republican\n",
    "voters in the second state than in the first state?\n",
    "Ans.\n",
    "\n",
    "   Here H0=prob of republican voter in second state is greater than prob in first state\n",
    "        H1=prob of republican voter in second state is lesser or equal than prob in first state"
   ]
  },
  {
   "cell_type": "code",
   "execution_count": 4,
   "metadata": {},
   "outputs": [
    {
     "name": "stdout",
     "output_type": "stream",
     "text": [
      "-0.7080278164104213 is under the area of 0.24\n",
      "the probability that the survey will show a greater percentage of Republican voters in the second state than in the first state is =0.24\n"
     ]
    }
   ],
   "source": [
    "import numpy as np\n",
    "N=100\n",
    "prob_s1_repub=0.52\n",
    "prob_s1_demo=0.48\n",
    "prob_s2_repub=0.47\n",
    "prob_s2_demo=0.53\n",
    "no_of_state1_republicans=prob_s1_repub*N\n",
    "no_of_state1_democrates=prob_s1_demo*N\n",
    "no_of_state2_republicans=prob_s2_repub*N\n",
    "no_of_state2_democrates=prob_s2_demo*N\n",
    "\n",
    "#finding mean of difference in sample proportion\n",
    "\n",
    "mean=prob_s1_repub-prob_s2_repub\n",
    "\n",
    "#finding standard deviation of difference\n",
    "\n",
    "stand_deviation=np.sqrt(((prob_s1_repub*prob_s1_demo)/N)+((prob_s2_repub*prob_s2_demo)/N))\n",
    "\n",
    "#here,H0=prob_s1_repub-prob_s2_repub<0\n",
    "# H1=prob_s1_repub-prob_s2_repub>=0\n",
    "\n",
    "#finding Z-value\n",
    "\n",
    "z_calculated=(0-mean)/stand_deviation #sample mean is not given\n",
    "\n",
    "#if z_calculated is under the area of less than or equal to 0.24 in z-table\n",
    "\n",
    "print(z_calculated,\"is under the area of 0.24\")\n",
    "print(\"the probability that the survey will show a greater percentage of Republican voters in the second state than in the first state is =0.24\")"
   ]
  },
  {
   "cell_type": "raw",
   "metadata": {},
   "source": [
    "3.You take the SAT and score 1100. The mean score for the SAT is 1026 and the standard\n",
    "deviation is 209. How well did you score on the test compared to the average test taker?\n",
    "Ans.\n",
    "    given, mean=1026\n",
    "    standard deviation=209\n",
    "    given x=1100\n",
    "    convert into z value"
   ]
  },
  {
   "cell_type": "code",
   "execution_count": 5,
   "metadata": {},
   "outputs": [
    {
     "name": "stdout",
     "output_type": "stream",
     "text": [
      "The score was  0.35406698564593303 standard deviation above population mean\n"
     ]
    }
   ],
   "source": [
    "pop_mean=1026\n",
    "stand_deviation=209\n",
    "x=1100\n",
    "z=(x-pop_mean)/stand_deviation\n",
    "print(\"The score was \",z,\"standard deviation above population mean\")"
   ]
  },
  {
   "cell_type": "code",
   "execution_count": null,
   "metadata": {},
   "outputs": [],
   "source": []
  }
 ],
 "metadata": {
  "kernelspec": {
   "display_name": "Python 3",
   "language": "python",
   "name": "python3"
  },
  "language_info": {
   "codemirror_mode": {
    "name": "ipython",
    "version": 3
   },
   "file_extension": ".py",
   "mimetype": "text/x-python",
   "name": "python",
   "nbconvert_exporter": "python",
   "pygments_lexer": "ipython3",
   "version": "3.7.6"
  }
 },
 "nbformat": 4,
 "nbformat_minor": 4
}
