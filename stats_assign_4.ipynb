{
 "cells": [
  {
   "cell_type": "markdown",
   "metadata": {},
   "source": [
    "1.Is gender independent of education level? A random sample of 395 people were\n",
    "surveyed and each person was asked to report the highest education level they\n",
    "obtained. The data that resulted from the survey is summarized in the following table:\n",
    "High School Bachelors Masters Ph.d. Total\n",
    "\n",
    "\n",
    "Female 60 54 46 41 201\n",
    "\n",
    "Male 40 44 53 57 194\n",
    "\n",
    "Total 100 98 99 98 395\n",
    "\n",
    "\n",
    "\n",
    "Question: Are gender and education level dependent at 5% level of significance? In\n",
    "other words, given the data collected above, is there a relationship between the\n",
    "gender of an individual and the level of education that they have obtained?"
   ]
  },
  {
   "cell_type": "markdown",
   "metadata": {},
   "source": [
    "Ans.here Null hypothesis H0:education level will not depend on gender\n",
    "            \n",
    "         Alternative hypothesis H1:education level will depend on gender\n",
    "         \n",
    "         chi squared=(observed-expected)/expected\n",
    "         \n",
    "         expected=(row-total*col-total)/sample size"
   ]
  },
  {
   "cell_type": "code",
   "execution_count": 3,
   "metadata": {},
   "outputs": [
    {
     "name": "stdout",
     "output_type": "stream",
     "text": [
      "reject null hypothesis and conclude that education level depends on gender at 5% significance\n"
     ]
    }
   ],
   "source": [
    "import numpy as np\n",
    "female=[60,54,46,41]\n",
    "male=[40,44,53,57]\n",
    "row_total=[100,98,99,98]\n",
    "col_total=[201,194]\n",
    "N=395\n",
    "expected_female=[]\n",
    "expected_male=[]\n",
    "for x in row_total:\n",
    "    val=(col_total[0]*x)/N\n",
    "    expected_female.append(val)\n",
    "    val=(col_total[1]*x)/N\n",
    "    expected_male.append(val)\n",
    "chi_value=0\n",
    "for i in range(len(female)):\n",
    "    chi_value+=((female[i]-expected_female[i])**2/expected_female[i])\n",
    "    chi_value+=((male[i]-expected_male[i])**2/expected_male[i])\n",
    "level_of_significance=0.05\n",
    "df=3\n",
    "chi_theoritical=7.815\n",
    "if(chi_value>chi_theoritical):\n",
    "    print(\"reject null hypothesis and conclude that education level depends on gender at 5% significance\")\n",
    "else:\n",
    "    print(\"accept null hypothesis and conclude that education level does not depends on gender at 5% significance\")"
   ]
  },
  {
   "cell_type": "markdown",
   "metadata": {},
   "source": [
    "2.Using the following data, perform a oneway analysis of variance using α=.05. Write\n",
    "up the results in APA format.\n",
    "\n",
    "\n",
    "[Group1: 51, 45, 33, 45, 67]\n",
    "\n",
    "[Group2: 23, 43, 23, 43, 45]\n",
    "\n",
    "[Group3: 56, 76, 74, 87, 56]"
   ]
  },
  {
   "cell_type": "code",
   "execution_count": 20,
   "metadata": {},
   "outputs": [
    {
     "name": "stdout",
     "output_type": "stream",
     "text": [
      "MS_error= 155.06666666666666\n",
      "SS_error= 1860.8\n",
      "grand_mean= 51.133333333333326\n",
      "SSmean= 604.5866666666666\n",
      "var_mean= 302.2933333333333\n",
      "MS_btwn= 1511.4666666666665\n",
      "SSgroup= 3022.933333333333\n",
      "F_stats= 9.747205503009457\n",
      "F(2,12) = 9.747205503009457 p<0.05 n2= 0.61898001528885\n"
     ]
    }
   ],
   "source": [
    "import numpy as np\n",
    "grp1=np.array([51,45,33,45,67])\n",
    "grp2=np.array([23,43,23,43,45])\n",
    "grp3=np.array([56,76,74,87,56])\n",
    "\n",
    "#finding mean\n",
    "\n",
    "mean1=np.mean(grp1)\n",
    "mean2=np.mean(grp2)\n",
    "mean3=np.mean(grp3)\n",
    "\n",
    "#find sum of squares of standard deviation\n",
    "\n",
    "std1=0\n",
    "std2=0\n",
    "std3=0\n",
    "for i in range(len(grp1)):\n",
    "    std1+=(grp1[i]-mean1)**2\n",
    "    std2+=(grp2[i]-mean2)**2\n",
    "    std3+=(grp3[i]-mean3)**2\n",
    "\n",
    "#find variance\n",
    "N=5\n",
    "var1=std1/(N-1)\n",
    "var2=std2/(N-1)\n",
    "var3=std3/(N-1)\n",
    "\n",
    "#finding MSERROR\n",
    "\n",
    "MS_error=(var1+var2+var3)/3\n",
    "print(\"MS_error=\",MS_error)\n",
    "\n",
    "#finding SSERROR\n",
    "df_error=12   #15-3\n",
    "SS_error=(MS_error)*(df_error)\n",
    "print(\"SS_error=\",SS_error)\n",
    "#grand mean\n",
    "grand_mean=(mean1+mean2+mean3)/3\n",
    "print(\"grand_mean=\",grand_mean)\n",
    "#sum of squares of mean\n",
    "\n",
    "SSmean=((mean1-grand_mean)**2+(mean2-grand_mean)**2+(mean3-grand_mean)**2)\n",
    "print(\"SSmean=\",SSmean)\n",
    "#variance of mean\n",
    "\n",
    "var_mean=SSmean/(3-1)\n",
    "print(\"var_mean=\",var_mean)\n",
    "\n",
    "#MS BETWEEN\n",
    "\n",
    "MS_btwn=(var_mean)*5\n",
    "print(\"MS_btwn=\",MS_btwn)\n",
    "#SSgrouped\n",
    "\n",
    "SSgroup=(MS_btwn)*(3-1)\n",
    "print(\"SSgroup=\",SSgroup)\n",
    "\n",
    "#test statistics and critical value\n",
    "\n",
    "F_stats=MS_btwn/MS_error\n",
    "F_critical=3.89\n",
    "print(\"F_stats=\",F_stats)\n",
    "\n",
    "effective_size=SSgroup/(SSgroup+SS_error)\n",
    "\n",
    "#APA WRITEUP\n",
    "\n",
    "print(\"F(2,12)\",\"=\",F_stats,\"p<0.05\",\"n2=\",effective_size)"
   ]
  },
  {
   "cell_type": "raw",
   "metadata": {},
   "source": [
    "3.Calculate F Test for given \n",
    "\n",
    "10, 20, 30, 40, 50 and \n",
    "\n",
    "5,10,15, 20, 25.\n",
    "\n",
    "For 10, 20, 30, 40, 50:"
   ]
  },
  {
   "cell_type": "code",
   "execution_count": 25,
   "metadata": {},
   "outputs": [
    {
     "name": "stdout",
     "output_type": "stream",
     "text": [
      "mean1= 30.0\n",
      "mean2= 15.0\n",
      "variance= 250.0\n",
      "variance= 62.5\n",
      "f test= 4.0\n"
     ]
    }
   ],
   "source": [
    "N=5\n",
    "l1=[10,20,30,40,50]\n",
    "l2=[5,10,15,20,25]\n",
    "mean1=0\n",
    "for x in l1:\n",
    "    mean1+=x\n",
    "mean1/=5\n",
    "mean2=0\n",
    "for x in l2:\n",
    "    mean2+=x\n",
    "mean2/=5\n",
    "std1=0\n",
    "for x in l1:\n",
    "    std1+=(x-mean1)**2\n",
    "std1/=(N-1)\n",
    "std2=0\n",
    "for x in l2:\n",
    "    std2+=(x-mean2)**2\n",
    "std2/=(N-1)\n",
    "var1=std1\n",
    "var2=std2\n",
    "\n",
    "f_test=var1/var2\n",
    "\n",
    "print(\"mean1=\",mean1)\n",
    "print(\"mean2=\",mean2)\n",
    "print(\"variance=\",var1)\n",
    "print(\"variance=\",var2)\n",
    "print(\"f test=\",f_test)\n",
    "\n"
   ]
  },
  {
   "cell_type": "code",
   "execution_count": null,
   "metadata": {},
   "outputs": [],
   "source": []
  }
 ],
 "metadata": {
  "kernelspec": {
   "display_name": "Python 3",
   "language": "python",
   "name": "python3"
  },
  "language_info": {
   "codemirror_mode": {
    "name": "ipython",
    "version": 3
   },
   "file_extension": ".py",
   "mimetype": "text/x-python",
   "name": "python",
   "nbconvert_exporter": "python",
   "pygments_lexer": "ipython3",
   "version": "3.7.6"
  }
 },
 "nbformat": 4,
 "nbformat_minor": 4
}
